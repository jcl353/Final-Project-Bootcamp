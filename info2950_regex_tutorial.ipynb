{
  "nbformat": 4,
  "nbformat_minor": 0,
  "metadata": {
    "colab": {
      "provenance": [],
      "collapsed_sections": [],
      "include_colab_link": true
    },
    "kernelspec": {
      "name": "python3",
      "display_name": "Python 3"
    },
    "language_info": {
      "name": "python"
    }
  },
  "cells": [
    {
      "cell_type": "markdown",
      "metadata": {
        "id": "view-in-github",
        "colab_type": "text"
      },
      "source": [
        "<a href=\"https://colab.research.google.com/github/jcl353/Final-Project-Bootcamp/blob/main/info2950_regex_tutorial.ipynb\" target=\"_parent\"><img src=\"https://colab.research.google.com/assets/colab-badge.svg\" alt=\"Open In Colab\"/></a>"
      ]
    },
    {
      "cell_type": "markdown",
      "source": [
        "# INFO 2950: Regular Expressions\n",
        "\n",
        "During Friday's section, we will introduce and run through a tutorial on regular expressions. After this tutorial, you should be able to:\n",
        "\n",
        "\n",
        "*   Know when and why you might use regular expressions\n",
        "*   Generate a regular expression to match a substring within a string\n",
        "*   Use the `regex` module to match, return, and replace substrings within a string\n",
        "\n"
      ],
      "metadata": {
        "id": "IqPKEVX7foJC"
      }
    },
    {
      "cell_type": "markdown",
      "source": [
        "## Part 1: Regular expression basics\n",
        "\n",
        "A **regular expression** (also often referred to as \"regex\" or \"regexp\") is a special type of text string that can be used to search for patterns in text. Regular expressions are useful for a variety of tasks, including:\n",
        "* Learning if a specific word occurs in a document\n",
        "* Finding all strings that match a general pattern or characteristic \n",
        "* Changing all instances of a certain word to a different word\n",
        "\n",
        "**In what scenarios might you want to use a regular expression? Have you already used any regular expressions?**"
      ],
      "metadata": {
        "id": "LhmQQT-aghVX"
      }
    },
    {
      "cell_type": "code",
      "source": [
        "import regex as re"
      ],
      "metadata": {
        "id": "qBLFNUBu5Xdq"
      },
      "execution_count": null,
      "outputs": []
    },
    {
      "cell_type": "markdown",
      "source": [
        "The simplest type of regular expression matches a character in a string with a literal character (or group of characters). For example, you might check whether the group of characters `Ithaca` occurs in the string `Ithaca is gorges!`. "
      ],
      "metadata": {
        "id": "8T-8QPmZ2L1g"
      }
    },
    {
      "cell_type": "markdown",
      "source": [
        "When using regular expressions in python, we will often use the `regex` module. This module has a handy function, `search()` that searches for the first match of a regular expression in a string. You can pair `group()` with the returned value from `search()` to print out the matched string. \n",
        "\n",
        "Let's use `search()` to find whether the string `Ithaca` occurs in the string `Ithaca is gorges!`, and print out the match (if it is found). "
      ],
      "metadata": {
        "id": "arAUB6GGdfsE"
      }
    },
    {
      "cell_type": "code",
      "source": [
        "match = re.search(r'Ithaca', 'Ithaca is gorges!')\n",
        "\n",
        "print(type(match)) # re.search() returns a re.Match object if found else None\n",
        "\n",
        "if match:\n",
        "  print(match.group())\n",
        "else:\n",
        "  print('not found !!')"
      ],
      "metadata": {
        "id": "Y9pOS9fd2Tgo",
        "colab": {
          "base_uri": "https://localhost:8080/"
        },
        "outputId": "2a7559d7-fcd6-4cd3-8920-c070e4727484"
      },
      "execution_count": null,
      "outputs": [
        {
          "output_type": "stream",
          "name": "stdout",
          "text": [
            "<class '_regex.Match'>\n",
            "Ithaca\n"
          ]
        }
      ]
    },
    {
      "cell_type": "code",
      "source": [
        "match"
      ],
      "metadata": {
        "colab": {
          "base_uri": "https://localhost:8080/"
        },
        "id": "wF3alrLZZ_gS",
        "outputId": "831204bf-08e0-474e-c984-1d49d891ae19"
      },
      "execution_count": null,
      "outputs": [
        {
          "output_type": "execute_result",
          "data": {
            "text/plain": [
              "<regex.Match object; span=(0, 6), match='Ithaca'>"
            ]
          },
          "metadata": {},
          "execution_count": 3
        }
      ]
    },
    {
      "cell_type": "code",
      "source": [
        "'Ithaca is gorges!'[0:6]"
      ],
      "metadata": {
        "colab": {
          "base_uri": "https://localhost:8080/",
          "height": 35
        },
        "id": "sMa6q8KKaZrw",
        "outputId": "4e242fb2-876a-4554-ae56-f1c50ff414fe"
      },
      "execution_count": null,
      "outputs": [
        {
          "output_type": "execute_result",
          "data": {
            "text/plain": [
              "'Ithaca'"
            ],
            "application/vnd.google.colaboratory.intrinsic+json": {
              "type": "string"
            }
          },
          "metadata": {},
          "execution_count": 4
        }
      ]
    },
    {
      "cell_type": "code",
      "source": [
        "match.group()"
      ],
      "metadata": {
        "colab": {
          "base_uri": "https://localhost:8080/",
          "height": 35
        },
        "id": "TPok-PLMbM56",
        "outputId": "ffc3e1ae-4a78-41b7-b50a-ae849b4d0d89"
      },
      "execution_count": null,
      "outputs": [
        {
          "output_type": "execute_result",
          "data": {
            "text/plain": [
              "'Ithaca'"
            ],
            "application/vnd.google.colaboratory.intrinsic+json": {
              "type": "string"
            }
          },
          "metadata": {},
          "execution_count": 5
        }
      ]
    },
    {
      "cell_type": "markdown",
      "source": [
        "Because we knew exactly what we were looking for (the string `Ithaca`) we were able to use a literal pattern to find the match in the string."
      ],
      "metadata": {
        "id": "INqcI30KcDxn"
      }
    },
    {
      "cell_type": "markdown",
      "source": [
        "**Why there is a `r` before the regex pattern?**\n",
        "\n",
        "An `r` before a string tells the Python interpreter to treat backslashes as a literal (raw) character. \n",
        "\n",
        "Normally, Python uses backslashes as escape characters. Prefacing the string definition with `r` is a useful way to define a string where you need the backslash to be an actual backslash and not part of an escape code."
      ],
      "metadata": {
        "id": "C_tk-jZTEsID"
      }
    },
    {
      "cell_type": "markdown",
      "source": [
        "Let's write a function for checking if our regular expression successfully finds a match. This function will print the matched string if found, and give us a clear message (`not found !!`) if the regular expression is absent.  "
      ],
      "metadata": {
        "id": "-xIUClr02_io"
      }
    },
    {
      "cell_type": "code",
      "source": [
        "def check(match:re.Match):\n",
        "  if match:\n",
        "    print(match.group())\n",
        "  else:\n",
        "    print('not found !!')"
      ],
      "metadata": {
        "id": "owE-t3sG2-Na"
      },
      "execution_count": null,
      "outputs": []
    },
    {
      "cell_type": "markdown",
      "source": [
        "And let's make sure that this function works on the regular expression we just found:"
      ],
      "metadata": {
        "id": "myOyo60WcZu2"
      }
    },
    {
      "cell_type": "code",
      "source": [
        "check(re.search(r'Ithaca', 'Ithaca is gorges!'))"
      ],
      "metadata": {
        "id": "1I-3JOp1cpTo",
        "colab": {
          "base_uri": "https://localhost:8080/"
        },
        "outputId": "d7794a6a-4e08-4470-8c4b-cb148788edab"
      },
      "execution_count": null,
      "outputs": [
        {
          "output_type": "stream",
          "name": "stdout",
          "text": [
            "Ithaca\n"
          ]
        }
      ]
    },
    {
      "cell_type": "code",
      "source": [
        "match = re.search(r\"Columbia\", \"Ithaca is gorges!\")\n",
        "type(match)"
      ],
      "metadata": {
        "colab": {
          "base_uri": "https://localhost:8080/"
        },
        "id": "ZWIE9skwbh_q",
        "outputId": "5414a8b5-5828-496a-96af-dcd5312b41c4"
      },
      "execution_count": null,
      "outputs": [
        {
          "output_type": "execute_result",
          "data": {
            "text/plain": [
              "NoneType"
            ]
          },
          "metadata": {},
          "execution_count": 8
        }
      ]
    },
    {
      "cell_type": "markdown",
      "source": [
        "## Part 2: Special characters"
      ],
      "metadata": {
        "id": "GC6LtZMRgmJq"
      }
    },
    {
      "cell_type": "markdown",
      "source": [
        "So far, we've only looked at examples of regular expressions where the raw characters *literally* map onto the string. \n",
        "\n",
        "However, the real power of regular expressions comes from characters that symbolize special properties in a string. For example, are we looking for a string of numbers (regardless of the specific numbers)? Does the string always contain an `@` symbol in the middle? Do we only want to find strings that occur directly after a tab? \n",
        "\n",
        "To do this, there are a number of regular expressions that match specific patterns in strings--also known as **special characters**. \n",
        "\n",
        "**Here are some common special characters:**\n",
        "\n",
        "|Regular Expression | Pattern Matched|\n",
        "| --- | --- |\n",
        "|`^`| start of string|\n",
        "|`$`| end of string|\n",
        "|`.`| any character (except a newline) |\n",
        "|`\\n`| newline|\n",
        "|`\\t`| tab|\n",
        "|`\\w`| alphanumeric character|\n",
        "|`\\d` | decimal digit character `[0-9]` |\n",
        "| `\\s`| single whitespace character\n"
      ],
      "metadata": {
        "id": "mMrodapr1Jto"
      }
    },
    {
      "cell_type": "code",
      "source": [
        "check(re.search(r'^I', 'Ithaca'))\n",
        "check(re.search(r'^x', 'Ithaca'))\n",
        "\n",
        "check(re.search(r'y$', 'Ithaca'))\n",
        "check(re.search(r'a$', 'Ithaca'))"
      ],
      "metadata": {
        "id": "3vCAtnyY3Utc",
        "colab": {
          "base_uri": "https://localhost:8080/"
        },
        "outputId": "21408d5c-0d4b-4824-faf6-578d0503a1e2"
      },
      "execution_count": null,
      "outputs": [
        {
          "output_type": "stream",
          "name": "stdout",
          "text": [
            "I\n",
            "not found !!\n",
            "not found !!\n",
            "a\n"
          ]
        }
      ]
    },
    {
      "cell_type": "markdown",
      "source": [
        "You might also want to provide *options* for single characters, like if you are looking for the word \"grey\" but know it could also be spelled with a single character difference, \"gray\". You can use bracketing to give character options.\n",
        "\n",
        "|Regular Expression | Pattern Matched|\n",
        "| --- | --- |\n",
        "|`[ae]`| `a` or `e`"
      ],
      "metadata": {
        "id": "AsQ-_9IImd25"
      }
    },
    {
      "cell_type": "code",
      "source": [
        "check(re.search(r'gr[ae]y', 'gray'))\n",
        "check(re.search(r'gr[ae]y', 'grey'))\n",
        "check(re.search(r'gr[ae]y', 'gryy'))\n"
      ],
      "metadata": {
        "id": "aHUgAcnffYm8",
        "colab": {
          "base_uri": "https://localhost:8080/"
        },
        "outputId": "ea70a12f-0ae0-44dc-acb9-635c564f3bb1"
      },
      "execution_count": null,
      "outputs": [
        {
          "output_type": "stream",
          "name": "stdout",
          "text": [
            "gray\n",
            "grey\n",
            "not found !!\n"
          ]
        }
      ]
    },
    {
      "cell_type": "markdown",
      "source": [
        "###Repetition\n",
        "\n",
        "Things get more interesting when you use `+` and `*` to specify repetition in the pattern\n",
        "\n",
        "* `+` : 1 or more occurrences of the pattern to its left, e.g. `i+` = one or more `i`'s\n",
        "* `*` : 0 or more occurrences of the pattern to its left\n",
        "* `?` : match 0 or 1 occurrences of the pattern to its left"
      ],
      "metadata": {
        "id": "EM10awpk4dZ8"
      }
    },
    {
      "cell_type": "code",
      "source": [
        "# word starting with b and following by 1 or more word character \n",
        "check(re.search(r'^b\\w+', 'foobar'))\n",
        "\n",
        "# b (not necessarily in start) followed by 1 or more word character\n",
        "check(re.search(r'b\\w+', 'foobar'))"
      ],
      "metadata": {
        "id": "3iQ-wCJd5Zgg",
        "colab": {
          "base_uri": "https://localhost:8080/"
        },
        "outputId": "0a80ec41-5f92-484b-cf49-5277450a4d2c"
      },
      "execution_count": null,
      "outputs": [
        {
          "output_type": "stream",
          "name": "stdout",
          "text": [
            "not found !!\n",
            "bar\n"
          ]
        }
      ]
    },
    {
      "cell_type": "code",
      "source": [],
      "metadata": {
        "id": "Dmh173bvegVA"
      },
      "execution_count": null,
      "outputs": []
    },
    {
      "cell_type": "markdown",
      "source": [
        "**Why did the second expression work, but not the first?** "
      ],
      "metadata": {
        "id": "c9PUbLjCft_E"
      }
    },
    {
      "cell_type": "markdown",
      "source": [
        "## Part 3: Practice finding regular expressions in strings\n",
        "In small groups, complete the following exercises. "
      ],
      "metadata": {
        "id": "jAFkXZQN57F-"
      }
    },
    {
      "cell_type": "markdown",
      "source": [
        "Write regular expression to find the following patterns in this string `Cornell University`\n",
        "\n",
        "\n",
        "```\n",
        "re.search(r'write your answer regex here', 'Cornell University')\n",
        "\n",
        "```\n",
        "\n"
      ],
      "metadata": {
        "id": "81XLeF8M6APb"
      }
    },
    {
      "cell_type": "markdown",
      "source": [
        "1. Search the string to see if it starts with \"Corn\" and ends with \"College\""
      ],
      "metadata": {
        "id": "6GAs_Ogl6i_z"
      }
    },
    {
      "cell_type": "markdown",
      "source": [],
      "metadata": {
        "id": "Umpl4Kygrb3D"
      }
    },
    {
      "cell_type": "code",
      "source": [],
      "metadata": {
        "id": "Aly8ssOJ555P"
      },
      "execution_count": null,
      "outputs": []
    },
    {
      "cell_type": "code",
      "source": [],
      "metadata": {
        "id": "j4pUWFXbhE1c"
      },
      "execution_count": null,
      "outputs": []
    },
    {
      "cell_type": "markdown",
      "source": [
        "2. Search the string to see if it starts with \"C\", followed by 1 or more characters and a single whitespace"
      ],
      "metadata": {
        "id": "G8LrXami7fOO"
      }
    },
    {
      "cell_type": "code",
      "source": [],
      "metadata": {
        "id": "Er_shy9N7w9x"
      },
      "execution_count": null,
      "outputs": []
    },
    {
      "cell_type": "markdown",
      "source": [
        "3. Find one or more decimal numbers in this string:   \n",
        "`Cornell Uni. was established in 1865`"
      ],
      "metadata": {
        "id": "PmdnD3pE8Qtw"
      }
    },
    {
      "cell_type": "code",
      "source": [],
      "metadata": {
        "id": "MdF-dOoK0Z9o"
      },
      "execution_count": null,
      "outputs": []
    },
    {
      "cell_type": "markdown",
      "source": [
        "4. Find the email address inside the string `'xyz alice-b@google.com purple cat'`."
      ],
      "metadata": {
        "id": "FjeuSZ9r9HgD"
      }
    },
    {
      "cell_type": "code",
      "source": [],
      "metadata": {
        "id": "yCl_961PhIKx"
      },
      "execution_count": null,
      "outputs": []
    },
    {
      "cell_type": "markdown",
      "source": [
        "**📣 New function alert! 📣** You can also use the regex function `sub()` to \n",
        "\n",
        "---\n",
        "\n",
        "replace a string with a different string. \n",
        "\n",
        "`re.sub(\"og_string\", \"new_string\", \"string_containing_og_string\")`\n",
        "\n",
        "5. In the string `Ithaca is gorgeous`, replace the word `gorgeous` with `gorges`. "
      ],
      "metadata": {
        "id": "qiXkZQKoiAjW"
      }
    },
    {
      "cell_type": "code",
      "source": [],
      "metadata": {
        "id": "QENwS1fLhrNo"
      },
      "execution_count": null,
      "outputs": []
    },
    {
      "cell_type": "markdown",
      "source": [
        "**📣 (Another) new function alert! 📣** \n",
        "\n",
        "So far, you've only been identifying the first occurrence of a regular expression in a string. There's another function, `findall()` that finds as many occurrences of a regular expression as there are within a given string. This function takes two arguments: (1) the pattern to look for and (2) the string that contains the pattern(s):\n",
        "\n",
        "`re.findall(\"string\", \"longer_string\")`\n",
        "\n",
        "6. Find all single digit characters (0-9) in the string `Today is the 14th day of October, in the year 2022.`"
      ],
      "metadata": {
        "id": "5kq_MZ_hhn_9"
      }
    },
    {
      "cell_type": "code",
      "source": [],
      "metadata": {
        "id": "v4Rb1meqk0L2"
      },
      "execution_count": null,
      "outputs": []
    },
    {
      "cell_type": "markdown",
      "source": [
        "7. Find all **words** (understood as multiple alphanumeric characters in a row) in the string `The leaves are turning red and orange!`."
      ],
      "metadata": {
        "id": "vWm15e-dkyK5"
      }
    },
    {
      "cell_type": "code",
      "source": [],
      "metadata": {
        "id": "QKVxJioA9m-P"
      },
      "execution_count": null,
      "outputs": []
    }
  ]
}